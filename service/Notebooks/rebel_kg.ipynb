{
 "cells": [
  {
   "cell_type": "markdown",
   "metadata": {},
   "source": [
    "# Importing Modules"
   ]
  },
  {
   "cell_type": "code",
   "execution_count": 22,
   "metadata": {},
   "outputs": [],
   "source": [
    "from transformers import pipeline\n",
    "import torch\n",
    "import numpy as np\n",
    "import random\n",
    "import os\n",
    "from llama_index.core.graph_stores import SimpleGraphStore\n",
    "from pprint import pprint"
   ]
  },
  {
   "cell_type": "markdown",
   "metadata": {},
   "source": [
    "# Config"
   ]
  },
  {
   "cell_type": "code",
   "execution_count": 5,
   "metadata": {},
   "outputs": [],
   "source": [
    "class Config:\n",
    "    device = torch.device('cuda') if torch.cuda.is_available() else torch.device('cpu')\n",
    "    seed = 42"
   ]
  },
  {
   "cell_type": "markdown",
   "metadata": {},
   "source": [
    "# Loading Rebel Model"
   ]
  },
  {
   "cell_type": "code",
   "execution_count": 6,
   "metadata": {},
   "outputs": [],
   "source": [
    "triplet_extractor = pipeline(\n",
    "    'text2text-generation', \n",
    "    model='Babelscape/rebel-large', \n",
    "    tokenizer='Babelscape/rebel-large',\n",
    ")"
   ]
  },
  {
   "cell_type": "markdown",
   "metadata": {},
   "source": [
    "# Helper functions"
   ]
  },
  {
   "cell_type": "code",
   "execution_count": 7,
   "metadata": {},
   "outputs": [],
   "source": [
    "def extract_triplets(text):\n",
    "    \"\"\"\n",
    "    \n",
    "    Function to extract triplets from a text chunk\n",
    "    \n",
    "    \"\"\"\n",
    "    triplets = []\n",
    "    relation, subject, relation, object_ = '', '', '', ''\n",
    "    text = text.strip()\n",
    "    current = 'x'\n",
    "    for token in text.replace(\"<s>\", \"\").replace(\"<pad>\", \"\").replace(\"</s>\", \"\").split():\n",
    "        if token == \"<triplet>\":\n",
    "            current = 't'\n",
    "            if relation != '':\n",
    "                triplets.append({'head': subject.strip(), 'type': relation.strip(),'tail': object_.strip()})\n",
    "                relation = ''\n",
    "            subject = ''\n",
    "        elif token == \"<subj>\":\n",
    "            current = 's'\n",
    "            if relation != '':\n",
    "                triplets.append({'head': subject.strip(), 'type': relation.strip(),'tail': object_.strip()})\n",
    "            object_ = ''\n",
    "        elif token == \"<obj>\":\n",
    "            current = 'o'\n",
    "            relation = ''\n",
    "        else:\n",
    "            if current == 't':\n",
    "                subject += ' ' + token\n",
    "            elif current == 's':\n",
    "                object_ += ' ' + token\n",
    "            elif current == 'o':\n",
    "                relation += ' ' + token\n",
    "    if subject != '' and relation != '' and object_ != '':\n",
    "        triplets.append({'head': subject.strip(), 'type': relation.strip(),'tail': object_.strip()})\n",
    "    return triplets\n",
    "\n",
    "def set_seed(cls, seed: int = Config.seed):\n",
    "    \"\"\"\n",
    "    \n",
    "    Function to set the seed for the entire notebook\n",
    "    \n",
    "    \"\"\"\n",
    "    np.random.seed(seed)\n",
    "    random.seed(seed)\n",
    "    torch.manual_seed(seed)\n",
    "    torch.cuda.manual_seed(seed)\n",
    "    torch.backends.cudnn.deterministic = True\n",
    "    torch.backends.cudnn.benchmark = False\n",
    "    os.environ['PYTHONHASHSEED'] = str(seed)\n",
    "\n",
    "set_seed(Config.seed)"
   ]
  },
  {
   "cell_type": "markdown",
   "metadata": {},
   "source": [
    "# Running a sample example"
   ]
  },
  {
   "cell_type": "code",
   "execution_count": 8,
   "metadata": {},
   "outputs": [],
   "source": [
    "text = \"Punta Cana is a resort town in the municipality of Higuey, in La Altagracia Province, the eastern most province of the Dominican Republic\"\n",
    "extracted_text = triplet_extractor.tokenizer.batch_decode(\n",
    "    [\n",
    "        triplet_extractor(\n",
    "            text, \n",
    "            return_tensors=True, \n",
    "            return_text=False\n",
    "        )[0][\"generated_token_ids\"]\n",
    "    ]\n",
    ")"
   ]
  },
  {
   "cell_type": "code",
   "execution_count": 9,
   "metadata": {},
   "outputs": [
    {
     "data": {
      "text/plain": [
       "'<s><triplet> Punta Cana <subj> La Altagracia Province <obj> located in the administrative territorial entity <subj> Dominican Republic <obj> country <triplet> Higuey <subj> La Altagracia Province <obj> located in the administrative territorial entity <subj> Dominican Republic <obj> country <triplet> La Altagracia Province <subj> Dominican Republic <obj> country <triplet> Dominican Republic <subj> La Altagracia Province <obj> contains administrative territorial entity</s>'"
      ]
     },
     "execution_count": 9,
     "metadata": {},
     "output_type": "execute_result"
    }
   ],
   "source": [
    "extracted_text[0]"
   ]
  },
  {
   "cell_type": "code",
   "execution_count": 10,
   "metadata": {},
   "outputs": [
    {
     "name": "stdout",
     "output_type": "stream",
     "text": [
      "[{'head': 'Punta Cana', 'type': 'located in the administrative territorial entity', 'tail': 'La Altagracia Province'}, {'head': 'Punta Cana', 'type': 'country', 'tail': 'Dominican Republic'}, {'head': 'Higuey', 'type': 'located in the administrative territorial entity', 'tail': 'La Altagracia Province'}, {'head': 'Higuey', 'type': 'country', 'tail': 'Dominican Republic'}, {'head': 'La Altagracia Province', 'type': 'country', 'tail': 'Dominican Republic'}, {'head': 'Dominican Republic', 'type': 'contains administrative territorial entity', 'tail': 'La Altagracia Province'}]\n"
     ]
    }
   ],
   "source": [
    "extracted_triplets = extract_triplets(extracted_text[0])\n",
    "print(extracted_triplets)"
   ]
  },
  {
   "cell_type": "code",
   "execution_count": 11,
   "metadata": {},
   "outputs": [
    {
     "name": "stdout",
     "output_type": "stream",
     "text": [
      "{'head': 'Punta Cana', 'type': 'located in the administrative territorial entity', 'tail': 'La Altagracia Province'}\n",
      "{'head': 'Punta Cana', 'type': 'country', 'tail': 'Dominican Republic'}\n",
      "{'head': 'Higuey', 'type': 'located in the administrative territorial entity', 'tail': 'La Altagracia Province'}\n",
      "{'head': 'Higuey', 'type': 'country', 'tail': 'Dominican Republic'}\n",
      "{'head': 'La Altagracia Province', 'type': 'country', 'tail': 'Dominican Republic'}\n",
      "{'head': 'Dominican Republic', 'type': 'contains administrative territorial entity', 'tail': 'La Altagracia Province'}\n"
     ]
    }
   ],
   "source": [
    "for et in extracted_triplets:\n",
    "    print(et)"
   ]
  },
  {
   "cell_type": "markdown",
   "metadata": {},
   "source": [
    "# Loading Embedding Model"
   ]
  },
  {
   "cell_type": "code",
   "execution_count": 12,
   "metadata": {},
   "outputs": [],
   "source": [
    "from sentence_transformers import SentenceTransformer\n",
    "\n",
    "embedder = SentenceTransformer('BAAI/bge-large-zh-v1.5')"
   ]
  },
  {
   "cell_type": "code",
   "execution_count": 18,
   "metadata": {},
   "outputs": [
    {
     "data": {
      "text/plain": [
       "[\"('Punta Cana', 'located in the administrative territorial entity', 'La Altagracia Province')\",\n",
       " \"('Punta Cana', 'country', 'Dominican Republic')\",\n",
       " \"('Higuey', 'located in the administrative territorial entity', 'La Altagracia Province')\",\n",
       " \"('Higuey', 'country', 'Dominican Republic')\",\n",
       " \"('La Altagracia Province', 'country', 'Dominican Republic')\",\n",
       " \"('Dominican Republic', 'contains administrative territorial entity', 'La Altagracia Province')\"]"
      ]
     },
     "execution_count": 18,
     "metadata": {},
     "output_type": "execute_result"
    }
   ],
   "source": [
    "triplets = []\n",
    "for et in extracted_triplets:\n",
    "    triplets.append(str(tuple(et.values())))\n",
    "triplets"
   ]
  },
  {
   "cell_type": "code",
   "execution_count": 19,
   "metadata": {},
   "outputs": [
    {
     "data": {
      "text/plain": [
       "array([[0.5565389 , 0.5961919 , 0.44976604, 0.4719923 , 0.45241246,\n",
       "        0.4475163 ],\n",
       "       [0.62759954, 0.5839532 , 0.5231231 , 0.45175192, 0.45139718,\n",
       "        0.44331726]], dtype=float32)"
      ]
     },
     "execution_count": 19,
     "metadata": {},
     "output_type": "execute_result"
    }
   ],
   "source": [
    "queries = ['What is Punta Cana?', 'Where is Punta Cana located?']\n",
    "instruction = \"Generate a representation for this sentence for use in retrieving related articles.\"\n",
    "\n",
    "q_embeddings = embedder.encode([instruction+q for q in queries], normalize_embeddings=True)\n",
    "p_embeddings = embedder.encode(triplets, normalize_embeddings=True)\n",
    "scores = q_embeddings @ p_embeddings.T\n",
    "scores"
   ]
  },
  {
   "cell_type": "code",
   "execution_count": 26,
   "metadata": {},
   "outputs": [
    {
     "name": "stdout",
     "output_type": "stream",
     "text": [
      "What is Punta Cana?\n",
      "==================================================\n",
      "{\"('Dominican Republic', 'contains administrative territorial entity', 'La Altagracia Province')\": 0.4475162923336029,\n",
      " \"('Higuey', 'country', 'Dominican Republic')\": 0.4719923138618469,\n",
      " \"('Higuey', 'located in the administrative territorial entity', 'La Altagracia Province')\": 0.44976603984832764,\n",
      " \"('La Altagracia Province', 'country', 'Dominican Republic')\": 0.4524124562740326,\n",
      " \"('Punta Cana', 'country', 'Dominican Republic')\": 0.5961918830871582,\n",
      " \"('Punta Cana', 'located in the administrative territorial entity', 'La Altagracia Province')\": 0.5565388798713684}\n",
      "Where is Punta Cana located?\n",
      "==================================================\n",
      "{\"('Dominican Republic', 'contains administrative territorial entity', 'La Altagracia Province')\": 0.4433172643184662,\n",
      " \"('Higuey', 'country', 'Dominican Republic')\": 0.4517519176006317,\n",
      " \"('Higuey', 'located in the administrative territorial entity', 'La Altagracia Province')\": 0.5231230854988098,\n",
      " \"('La Altagracia Province', 'country', 'Dominican Republic')\": 0.451397180557251,\n",
      " \"('Punta Cana', 'country', 'Dominican Republic')\": 0.5839532017707825,\n",
      " \"('Punta Cana', 'located in the administrative territorial entity', 'La Altagracia Province')\": 0.6275995373725891}\n"
     ]
    }
   ],
   "source": [
    "for idx, query in enumerate(queries):\n",
    "    scores_mapper = dict(zip(triplets, scores[idx].tolist()))\n",
    "    print(query)\n",
    "    print(\"=\"*50)\n",
    "    pprint(scores_mapper)"
   ]
  },
  {
   "cell_type": "code",
   "execution_count": null,
   "metadata": {},
   "outputs": [],
   "source": []
  }
 ],
 "metadata": {
  "kernelspec": {
   "display_name": "text-craft",
   "language": "python",
   "name": "python3"
  },
  "language_info": {
   "codemirror_mode": {
    "name": "ipython",
    "version": 3
   },
   "file_extension": ".py",
   "mimetype": "text/x-python",
   "name": "python",
   "nbconvert_exporter": "python",
   "pygments_lexer": "ipython3",
   "version": "3.10.0"
  }
 },
 "nbformat": 4,
 "nbformat_minor": 2
}
